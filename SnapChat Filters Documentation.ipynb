{
 "cells": [
  {
   "cell_type": "markdown",
   "id": "a19ca7f1",
   "metadata": {},
   "source": [
    "# PROJECT NAME :  Snap Chat Filters </br>\n",
    "# AIM\n",
    "    To create tkinter interface to apply snapchat filters to the photos which was selected by user and also in live cam.\n",
    "\n",
    "# PROJECT OUTCOMES\n",
    "    * How face detections and landmarks are used in opencv.\n",
    "    * This project helps to know how to link frontend (tkinter) and backend.\n",
    "\n",
    "# APPLIED FILTERS\n",
    "    1) Face mesh filter on images\n",
    "    2) Face mesh filter on set of images\n",
    "    3) tug life filter on image\n",
    "    4) Face mesh filter on live cam\n",
    "    5) Animated Eyes and fire smoke from mouth filter on live cam\n",
    "    6) Animated Eyes, Face mesh and fire smoke from mouth filter on live cam\n",
    "    7) tug life filter on live cam"
   ]
  },
  {
   "cell_type": "markdown",
   "id": "a3c09f86",
   "metadata": {},
   "source": [
    "# 1 . FRONTEND"
   ]
  },
  {
   "cell_type": "raw",
   "id": "af2bbc5c",
   "metadata": {},
   "source": [
    "Importing the required modulus\n",
    "\n",
    "Required modulus are:\n",
    "1. tkinter module for interface\n",
    "2. dbm module for storing and manipulate data\n",
    "3. filter files (backend) (Face_mesh_filter_image, Face_mesh_filter_set_of_images,\n",
    "                            tug_life_filter_image, Face_mesh_live, Eyes_smoke_filter_cam\n",
    "                            Face_mesh_eyes_smoke, tug_life_filter_cam)\n",
    "\n",
    "Frontend can be seen in fvbb.py file"
   ]
  },
  {
   "cell_type": "markdown",
   "id": "4b8e22a7",
   "metadata": {},
   "source": [
    "Class name `main`\n",
    "\n",
    "Constructor of class is to `login` the user by username and password.\n",
    "\n",
    "If user is new then user will `signup` the details by entring username and required password. Singup will be seen in `appen` function.\n",
    "\n",
    "Details will be added in `database` file of name `data` file by function `add` in class main.\n",
    "\n",
    "If user is new but user try to login before signup then there will be display of message `Invaild Credentials` in new window. This can be seen in function `Home`.\n",
    "\n",
    "If username is present in database but password is `not matched` then there will be a display of message `*Incorrect password`. This can be seen in function `Home`.\n",
    "\n",
    "If username is `matchs` with corresponding password then home page of `snapchat filter` window will be open and also `destroys` login window. This can be seen in function `Home`."
   ]
  },
  {
   "cell_type": "raw",
   "id": "cf33b229",
   "metadata": {},
   "source": [
    "def __init__(self):          # class constructor\n",
    "\n",
    "    self.Authen_root = Tk()\n",
    "        \n",
    "    self.x = self.Authen_root.winfo_screenwidth()\n",
    "    self.y = self.Authen_root.winfo_screenheight()\n",
    "    ww = 500\n",
    "    wh = 500\n",
    "    self.Authen_root.geometry(f\"{ww}x{wh}+{(self.x-ww)//2}+{(self.y-wh)//2}\")\n",
    "\n",
    "    self.Authen_root.title(\"Login\")\n",
    "    self.Authen_root.configure(bg='yellow')\n",
    "    self.Authen_root.resizable(width=False, height=False)\n",
    "\n",
    "    self.blank()\n",
    "\n",
    "    fr = Frame(self.Authen_root,bg='yellow')\n",
    "\n",
    "    graphical_image = PhotoImage(file=\"Touch.png\")\n",
    "    canvas = Canvas(self.Authen_root, width=300, height=200,bg='yellow',\n",
    "                    highlightbackground='yellow',highlightthickness=5)\n",
    "    canvas.create_image(0, 0, anchor=NW, image=graphical_image)\n",
    "    canvas.pack()\n",
    "\n",
    "    self.blank()\n",
    "\n",
    "    Label(fr, text=\"Username : \",font=('Times',18),bg='yellow').grid(row=0, column=0)\n",
    "    Label(fr, text=\"Password : \",font=('Times',18),bg='yellow').grid(row=1, column=0)\n",
    "\n",
    "    self.entry_username = Entry(fr)\n",
    "    self.entry_username.grid(row=0, column=1)\n",
    "    self.entry_password = Entry(fr, show=\"*\")\n",
    "    self.entry_password.grid(row=1, column=1)\n",
    "\n",
    "    Button(fr, text=\"Login\", command=self.Home).grid(row=2,column=1,sticky='ns')\n",
    "    Label(fr, text=\"\",bg='yellow').grid(row=3, column=0)\n",
    "    Label(fr,text='Don\\'t have an account?',font=('Helvetica', 12),bg='yellow').grid(row = 4,column = 0)\n",
    "    Button(fr,text='Sign up',command=self.appen).grid(row = 4,column=1,sticky=W)\n",
    "\n",
    "    fr.pack()\n",
    "    self.Authen_root.mainloop()"
   ]
  },
  {
   "cell_type": "markdown",
   "id": "9b15d92e",
   "metadata": {},
   "source": [
    "In `append` function new window is created with title Sign up </br> </br>\n",
    "Label `username` , `password` is created and respective space is created for entry </br> </br>\n",
    "Password is hidden by `*` for security purpose </br> </br>\n",
    "After clicking the button Signup, it will redirect to `add` function </br> </br>"
   ]
  },
  {
   "cell_type": "raw",
   "id": "f35d5659",
   "metadata": {},
   "source": [
    "def appen(self):\n",
    "    self.data = Tk()\n",
    "    self.data.title('Sign up')\n",
    "    self.data.configure(bg='yellow')\n",
    "    ww = 500\n",
    "    wh = 500\n",
    "    self.data.geometry(f\"{ww}x{wh}+{(self.x-ww)//2}+{(self.y-wh)//2}\")\n",
    "\n",
    "\n",
    "    fr1 = Frame(self.data,bg='yellow')\n",
    "    for i in range(3):\n",
    "        Label(fr1,text=\"\",bg='yellow').grid(row=i,column=0)\n",
    "\n",
    "    Label(fr1, text=\"Username : \",font=('Times',18),bg='yellow').grid(row=3, column=0)\n",
    "    self.entry_user = Entry(fr1)\n",
    "    self.entry_user.grid(row=3, column=1)\n",
    "\n",
    "    Label(fr1, text=\"Password : \",font=('Times',18),bg='yellow').grid(row=4, column=0)\n",
    "    self.entry_pass = Entry(fr1, show=\"*\")\n",
    "    self.entry_pass.grid(row=4, column=1)\n",
    "    Button(fr1,text='Sign up',command=self.add).grid(row = 6,column=1,sticky=W)\n",
    "\n",
    "    fr1.pack()\n",
    "    self.data.mainloop()"
   ]
  },
  {
   "cell_type": "markdown",
   "id": "482ba9fe",
   "metadata": {},
   "source": [
    "In `add` function username and password is get back which was entered at signup page. </br> </br>\n",
    "This username and password is stored in `database` file, `username` as `key` and `password` as `value`. </br> </br>\n",
    "After storing close the database file and it will `destory` Sign up window."
   ]
  },
  {
   "cell_type": "raw",
   "id": "5f90035d",
   "metadata": {},
   "source": [
    "def add(self):\n",
    "    username = self.entry_user.get()\n",
    "    password = self.entry_pass.get()\n",
    "    dbo = dbm.open('data','w')\n",
    "    dbo[f'{username}'] = f'{password}'\n",
    "    dbo.close()\n",
    "    self.data.destroy()    "
   ]
  },
  {
   "cell_type": "markdown",
   "id": "eeb6c256",
   "metadata": {},
   "source": [
    "In `Home` function username and password is get back which was entered at `login page` </br> </br>\n",
    "If username is in database but `not matchs` with corresponding key then there will be display of messagebox `*Incorrect password` </br> </br>\n",
    "If username is `not` in database then there will be display a messagebox `Invalid Credentials` and `suggestion` message `'Try to sign up If you already sign up check username'`. </br> </br>\n",
    "If username and password is `matchs` with key and corresponding value in `database` file then the `window` will `redirect` to `Snapchat Filter` window </br> </br>\n",
    "In `Snapchat Filter` window two buttons are avalilable: </br>\n",
    "* `Apply on image`\n",
    "* `Apply on cam`\n",
    "\n",
    "By click on `Apply on image` button a new window will be opened with title `Filters on image` in function `Filter_on_Image`. </br>\n",
    "By click on `Apply on cam` button a new window will be opened with title `Filter by cam` in function `Filter_on_cam`."
   ]
  },
  {
   "cell_type": "raw",
   "id": "6a4d31f6",
   "metadata": {},
   "source": [
    "def Home(self):\n",
    "\n",
    "    username = self.entry_username.get()\n",
    "    password = self.entry_password.get()\n",
    "\n",
    "    dbo = dbm.open('data','r')\n",
    "    if username in dbo:\n",
    "        k = dbo[f'{username}'].decode()\n",
    "        if k==password:\n",
    "            la = Label(self.Authen_root,text='Correct Password',fg='green',bg='yellow')\n",
    "            la.pack()\n",
    "\n",
    "            self.Authen_root.destroy()\n",
    "            self.Home_root = Tk()\n",
    "            self.Home_root.resizable(width=False, height=False)\n",
    "\n",
    "            x = self.Home_root.winfo_screenwidth()\n",
    "            y = self.Home_root.winfo_screenheight()\n",
    "            ww = 500\n",
    "            wh = 500\n",
    "            self.Home_root.geometry(f\"{ww}x{wh}+{(x-ww)//2}+{(y-wh)//2}\")\n",
    "\n",
    "            self.Home_root.title(\"Snapchat Filter\")\n",
    "            self.Home_root.configure(bg='yellow')\n",
    "            c = 'yellow'\n",
    "\n",
    "            self.splt(self.Home_root,2,c)\n",
    "\n",
    "            l1 = Label(self.Home_root,text=\"SNAPCHAT FILTERS\",font=('Times',20),\n",
    "                    fg = 'black',bg='yellow')\n",
    "            l1.pack()\n",
    "\n",
    "            graphical_image = PhotoImage(file=\"logo.png\")\n",
    "            canvas = Canvas(self.Home_root, width=200, height=113,bg='yellow',\n",
    "                            highlightbackground='yellow',highlightthickness=5)\n",
    "            canvas.create_image(0, 0, anchor=NW, image=graphical_image)\n",
    "            canvas.pack()\n",
    "\n",
    "\n",
    "            self.splt(self.Home_root,2,c)\n",
    "            b1 = Button(self.Home_root,text=\"Apply on Image\",fg='black',\n",
    "                        width=15,command=self.Filter_on_Image)\n",
    "            b1.pack()\n",
    "\n",
    "            self.splt(self.Home_root,2,c)\n",
    "            b3 = Button(self.Home_root,text='Apply by cam',fg='black',width=15,\n",
    "                        command=self.Filter_on_Cam)\n",
    "            b3.pack()\n",
    "            self.Home_root.mainloop()\n",
    "\n",
    "        else:\n",
    "            new = Tk()\n",
    "            new.title('Message')\n",
    "            for _ in range(2):\n",
    "                label_blank = Label(new,text=\"\")\n",
    "                label_blank.pack()\n",
    "            new.geometry(f\"{300}x{150}+{(self.x-300)//2}+{(self.y-150)//2}\")\n",
    "            la = Label(new,text='*Incorrect Password',font=('Times',20),fg='red')\n",
    "            la.pack()\n",
    "            dbo.close()\n",
    "            new.mainloop()\n",
    "    else:\n",
    "        new = Tk()\n",
    "        new.title('Message')\n",
    "        for _ in range(2):\n",
    "            label_blank = Label(new,text=\"\")\n",
    "            label_blank.pack()\n",
    "        new.geometry(f\"{300}x{150}+{(self.x-300)//2}+{(self.y-150)//2}\")\n",
    "        la = Label(new,text='Invaild Credentials',font=('Times',20),fg='red')\n",
    "        la.pack()\n",
    "        la1 = Label(new,text='Try to sign up\\n If you already sign up check username')\n",
    "        la1.pack()\n",
    "        new.mainloop()\n",
    "        dbo.close()\n",
    "        return"
   ]
  },
  {
   "cell_type": "markdown",
   "id": "4e6ffb92",
   "metadata": {},
   "source": [
    "In `Filter_on_Image` function new window will be opened with title `Filter on image`. </br> </br>\n",
    "In `Filter on Image window` three buttons are avalilabe: </br>\n",
    "* `Face mesh filter on image`\n",
    "* `Face mesh filter on set of image`\n",
    "* `TUG LIFE on image`\n",
    "\n",
    "By click on `Face mesh filter` button a new window will be opened to select `image` from user device and will be go to function `f1`. </br>\n",
    "By click on `Face mesh filter` button a new window will be opened to select `directory` from user device and will be go to function `f2`. </br>\n",
    "By click on `TUG LIFE on image` button a new window will be opened to select `image` from user device and will be go to function `f3`. </br>"
   ]
  },
  {
   "cell_type": "raw",
   "id": "8dfa246d",
   "metadata": {},
   "source": [
    "def Filter_on_Image(self):\n",
    "\n",
    "    self.filter_image = Tk()\n",
    "    self.filter_image.title('Filters on image')\n",
    "    self.filter_image.configure(bg='yellow')\n",
    "    self.filter_image.resizable(width=False, height=False)\n",
    "\n",
    "    ww = 387\n",
    "    wh = 400\n",
    "    self.filter_image.geometry(f\"{ww}x{wh}+0+0\")\n",
    "\n",
    "    self.splt(self.filter_image,2,'yellow')  \n",
    "    ba = Button(self.filter_image,text=\"Face mesh filter on image\",fg='black',\n",
    "                command=self.f1)\n",
    "    ba.pack()\n",
    "\n",
    "    self.splt(self.filter_image,2,'yellow')\n",
    "    ba1 = Button(self.filter_image,text=\"Face mesh filter on set of image\",fg='black',\n",
    "                 command=self.f2)\n",
    "    ba1.pack()\n",
    "\n",
    "    self.splt(self.filter_image,2,'yellow')    \n",
    "    ba2 = Button(self.filter_image,text=\"TUG LIFE on image\",fg='black',\n",
    "                 command=self.f3)\n",
    "    ba2.pack()\n",
    "\n",
    "    self.filter_image.mainloop()"
   ]
  },
  {
   "cell_type": "markdown",
   "id": "b5823b64",
   "metadata": {},
   "source": [
    "In `blank` function, three empty line frame is created"
   ]
  },
  {
   "cell_type": "raw",
   "id": "04817fde",
   "metadata": {},
   "source": [
    "def blank(self):\n",
    "\n",
    "    blank = Frame(self.Authen_root)\n",
    "\n",
    "    for _ in range(3):\n",
    "        label_blank = Label(blank,text=\"\",bg='yellow')\n",
    "        label_blank.pack()\n",
    "\n",
    "    blank.pack()"
   ]
  },
  {
   "cell_type": "markdown",
   "id": "97e4c43a",
   "metadata": {},
   "source": [
    "In `splt` function, `n` empty line Label, `root` respective window, `c` is for background color is created"
   ]
  },
  {
   "cell_type": "raw",
   "id": "21db5508",
   "metadata": {},
   "source": [
    "def splt(self,root,n,c):\n",
    "\n",
    "    for _ in range(n):\n",
    "        t = Label(root,text=\"\",bg=c)\n",
    "        t.pack()"
   ]
  },
  {
   "cell_type": "markdown",
   "id": "5433b33c",
   "metadata": {},
   "source": [
    "In function `f1`, object to class `mesh_image` is created which is in `Face_mesh_filter_image` module and object is calling function `apply` "
   ]
  },
  {
   "cell_type": "raw",
   "id": "9a8aa7ea",
   "metadata": {},
   "source": [
    "def f1(self):\n",
    "    k = Face_mesh_filter_image.mesh_image()\n",
    "    k.apply()"
   ]
  },
  {
   "cell_type": "markdown",
   "id": "2eb4d73e",
   "metadata": {},
   "source": [
    "In function `f2`, object to class `mesh_set_image` is created which is in `Face_mesh_filter_set_of_images` module and object is calling function `apply` "
   ]
  },
  {
   "cell_type": "raw",
   "id": "11cbcb48",
   "metadata": {},
   "source": [
    "def f2(self):\n",
    "    k = Face_mesh_filter_set_of_images.mesh_set_image()\n",
    "    k.apply()"
   ]
  },
  {
   "cell_type": "markdown",
   "id": "53a64a7d",
   "metadata": {},
   "source": [
    "In function `f3`, object to class `tuglife_image` is created which is in `tug_life_filter_image` module and object is calling function `apply` "
   ]
  },
  {
   "cell_type": "raw",
   "id": "1fc6d3d0",
   "metadata": {},
   "source": [
    "def f3(self):\n",
    "    k = tug_life_filter_image.tuglife_image()\n",
    "    k.apply()"
   ]
  },
  {
   "cell_type": "markdown",
   "id": "407e8493",
   "metadata": {},
   "source": [
    "In `Filter_on_Cam` function new window will be opened with title `Filter by cam`. </br> </br>\n",
    "In `Filter on cam window` three buttons are avalilabe: </br>\n",
    "* `Face Mesh`\n",
    "* `Animated eyes with fire smoke`\n",
    "* `Face mesh Animated eyes with fire smoke`\n",
    "* `TUG LIFE on cam`\n",
    "\n",
    "By click on `Face Mesh` button a new window will be open which is camera of user device which will go to function `f4`. </br>\n",
    "By click on `Animated eyes with fire smoke` button a new window will be open which is camera of user device which will go to function `f5`. </br>\n",
    "By click on `Face mesh Animated eyes with fire smoke` button a new window will be open which is camera of user device which will go to function `f6`. </br>\n",
    "By click on `TUG LIFE on cam` button a new window will be open which is camera of user device which will go to function `f7`. </br>"
   ]
  },
  {
   "cell_type": "raw",
   "id": "c3b19544",
   "metadata": {},
   "source": [
    "def Filter_on_Cam(self):\n",
    "\n",
    "    self.filter_image = Tk()\n",
    "    self.filter_image.configure(bg='yellow')\n",
    "    self.filter_image.title('Filters by cam')\n",
    "\n",
    "    ww = 387\n",
    "    wh = 400\n",
    "    x = self.filter_image.winfo_screenwidth()-ww\n",
    "    self.filter_image.geometry(f\"{ww}x{wh}+{x}+0\")\n",
    "    self.filter_image.resizable(width=False, height=False)\n",
    "\n",
    "    self.splt(self.filter_image,2,'yellow')\n",
    "    ba = Button(self.filter_image,text=\"Face Mesh\",fg='black',\n",
    "                command=self.f4)\n",
    "    ba.pack()\n",
    "\n",
    "    self.splt(self.filter_image,2,'yellow')\n",
    "    ba1 = Button(self.filter_image,text=\"Animated eyes with fire smoke\",fg='black',\n",
    "                command=self.f5)\n",
    "    ba1.pack()\n",
    "\n",
    "    self.splt(self.filter_image,2,'yellow')    \n",
    "    ba2 = Button(self.filter_image,text=\"Face mesh Animated eyes with fire smoke\",fg='black',\n",
    "                command=self.f6)\n",
    "    ba2.pack()\n",
    "\n",
    "    self.splt(self.filter_image,2,'yellow')    \n",
    "    ba3 = Button(self.filter_image,text=\"TUG LIFE on cam\",fg='black',\n",
    "                 command=self.f7)\n",
    "    ba3.pack()\n",
    "\n",
    "    self.filter_image.mainloop()"
   ]
  },
  {
   "cell_type": "markdown",
   "id": "8a8f2ef2",
   "metadata": {},
   "source": [
    "In function `f4`, object to class `mesh_cam` is created which is in `Face_mesh_live` module and object is calling function `apply` "
   ]
  },
  {
   "cell_type": "raw",
   "id": "50284feb",
   "metadata": {},
   "source": [
    "def f4(self):\n",
    "    k = Face_mesh_live.mesh_cam()\n",
    "    k.apply()"
   ]
  },
  {
   "cell_type": "markdown",
   "id": "8ede6d24",
   "metadata": {},
   "source": [
    "In function `f5`, object to class `smoke_cam` is created which is in `Eyes_smoke_filter_cam` module and object is calling function `apply` "
   ]
  },
  {
   "cell_type": "raw",
   "id": "8df2f303",
   "metadata": {},
   "source": [
    "def f5(self):\n",
    "    k = Eyes_smoke_filter_cam.smoke_cam()\n",
    "    k.apply()"
   ]
  },
  {
   "cell_type": "markdown",
   "id": "d312f13d",
   "metadata": {},
   "source": [
    "In function `f6`, object to class `mesh_smoke_cam` is created which is in `Face_mesh_eyes_smoke` module and object is calling function `apply` "
   ]
  },
  {
   "cell_type": "raw",
   "id": "91d0c1b5",
   "metadata": {},
   "source": [
    "def f6(self):\n",
    "    k = Face_mesh_eyes_smoke.mesh_smoke_cam()\n",
    "    k.apply()"
   ]
  },
  {
   "cell_type": "markdown",
   "id": "bb231572",
   "metadata": {},
   "source": [
    "In function `f7`, object to class `tuglife_cam` is created which is in `tug_life_filter_cam` module and object is calling function `apply` "
   ]
  },
  {
   "cell_type": "raw",
   "id": "bcac41fe",
   "metadata": {},
   "source": [
    "def f7(self):\n",
    "    k = tug_life_filter_cam.tuglife_cam()\n",
    "    k.apply()"
   ]
  }
 ],
 "metadata": {
  "kernelspec": {
   "display_name": "Python 3 (ipykernel)",
   "language": "python",
   "name": "python3"
  },
  "language_info": {
   "codemirror_mode": {
    "name": "ipython",
    "version": 3
   },
   "file_extension": ".py",
   "mimetype": "text/x-python",
   "name": "python",
   "nbconvert_exporter": "python",
   "pygments_lexer": "ipython3",
   "version": "3.9.12"
  }
 },
 "nbformat": 4,
 "nbformat_minor": 5
}
